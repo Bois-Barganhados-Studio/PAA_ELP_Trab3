{
 "cells": [
  {
   "cell_type": "code",
   "execution_count": 8,
   "metadata": {},
   "outputs": [],
   "source": [
    "import random\n",
    "\n",
    "def generate(n_elements, max_penalty, max_deadline):\n",
    "    penalty = [random.randint(1, max_penalty) for _ in range(n_elements)]\n",
    "    deadline = [random.randint(1, max_deadline) for _ in range(n_elements)]\n",
    "    return penalty, deadline"
   ]
  },
  {
   "cell_type": "code",
   "execution_count": 41,
   "metadata": {},
   "outputs": [],
   "source": [
    "def confere(vetor):\n",
    "    h = {}\n",
    "    for i in vetor:\n",
    "        if i in h:\n",
    "            h[i] += 1\n",
    "        else:\n",
    "            h[i] = 1\n",
    "\n",
    "    qtdColisao = 0\n",
    "    for i in h:\n",
    "        if h[i] > 1:\n",
    "            qtdColisao += h[i] - 1\n",
    "    return h, qtdColisao"
   ]
  },
  {
   "cell_type": "code",
   "execution_count": 23,
   "metadata": {},
   "outputs": [],
   "source": [
    "def save_on_file(p,d):\n",
    "    with open(f'inputs/input{len(p)}.txt', 'w') as f:\n",
    "        for i in range(len(p)):\n",
    "            s = f'{p[i]} {d[i]}\\n'\n",
    "            f.write(s)"
   ]
  },
  {
   "cell_type": "code",
   "execution_count": 172,
   "metadata": {},
   "outputs": [],
   "source": [
    "n_elements = 10000\n",
    "max_deadline = n_elements / 10\n",
    "max_penalty = 50\n",
    "\n",
    "p,d = generate(n_elements,max_penalty,max_deadline)"
   ]
  },
  {
   "cell_type": "code",
   "execution_count": 173,
   "metadata": {},
   "outputs": [
    {
     "name": "stdout",
     "output_type": "stream",
     "text": [
      "9000\n"
     ]
    }
   ],
   "source": [
    "h,c = confere(d)\n",
    "print(c)"
   ]
  },
  {
   "cell_type": "code",
   "execution_count": 174,
   "metadata": {},
   "outputs": [],
   "source": [
    "save_on_file(p,d)"
   ]
  },
  {
   "cell_type": "code",
   "execution_count": null,
   "metadata": {},
   "outputs": [],
   "source": []
  }
 ],
 "metadata": {
  "kernelspec": {
   "display_name": "Python 3",
   "language": "python",
   "name": "python3"
  },
  "language_info": {
   "codemirror_mode": {
    "name": "ipython",
    "version": 3
   },
   "file_extension": ".py",
   "mimetype": "text/x-python",
   "name": "python",
   "nbconvert_exporter": "python",
   "pygments_lexer": "ipython3",
   "version": "3.11.4"
  }
 },
 "nbformat": 4,
 "nbformat_minor": 2
}
